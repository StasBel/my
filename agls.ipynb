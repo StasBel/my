{
 "cells": [
  {
   "cell_type": "code",
   "execution_count": 1,
   "metadata": {},
   "outputs": [],
   "source": [
    "import random\n",
    "import unittest\n",
    "import numpy as np\n",
    "import heapq as hq\n",
    "\n",
    "from string import ascii_lowercase\n",
    "from collections import deque, defaultdict, UserList, Counter"
   ]
  },
  {
   "cell_type": "markdown",
   "metadata": {},
   "source": [
    "# main"
   ]
  },
  {
   "cell_type": "markdown",
   "metadata": {},
   "source": [
    "## topsort/dfs"
   ]
  },
  {
   "cell_type": "code",
   "execution_count": 2,
   "metadata": {},
   "outputs": [],
   "source": [
    "def top_sort(G):\n",
    "    used, T = set(), []\n",
    "\n",
    "    def dfs(v):\n",
    "        used.add(v)\n",
    "        [dfs(u) for u in G[v] if u not in used]\n",
    "        T.append(v)\n",
    "    \n",
    "    [dfs(v) for v in range(len(G)) if v not in used]\n",
    "    \n",
    "    return list(reversed(T))"
   ]
  },
  {
   "cell_type": "code",
   "execution_count": 3,
   "metadata": {},
   "outputs": [
    {
     "data": {
      "text/plain": [
       "[2, 1, 0, 4, 3]"
      ]
     },
     "execution_count": 3,
     "metadata": {},
     "output_type": "execute_result"
    }
   ],
   "source": [
    "top_sort(G=[[3, 4], [4], [0, 1], [], []])"
   ]
  },
  {
   "cell_type": "markdown",
   "metadata": {},
   "source": [
    "## bfs"
   ]
  },
  {
   "cell_type": "code",
   "execution_count": 4,
   "metadata": {},
   "outputs": [],
   "source": [
    "def bfs(g):\n",
    "    used, q, d = set(), deque(), [0 for _ in range(len(g))]\n",
    "    \n",
    "    used.add(0)\n",
    "    q.append(0)\n",
    "    d[0] = 0\n",
    "    \n",
    "    while len(q):\n",
    "        v = q.popleft()\n",
    "        for u in g[v]:\n",
    "            if u not in used:\n",
    "                used.add(u)\n",
    "                q.append(u)\n",
    "                d[u] = d[v] + 1\n",
    "    \n",
    "    return d"
   ]
  },
  {
   "cell_type": "code",
   "execution_count": 5,
   "metadata": {},
   "outputs": [
    {
     "data": {
      "text/plain": [
       "[0, 1]"
      ]
     },
     "execution_count": 5,
     "metadata": {},
     "output_type": "execute_result"
    }
   ],
   "source": [
    "bfs(g=[[1], []])"
   ]
  },
  {
   "cell_type": "markdown",
   "metadata": {},
   "source": [
    "## binsearch"
   ]
  },
  {
   "cell_type": "code",
   "execution_count": 6,
   "metadata": {},
   "outputs": [],
   "source": [
    "def upper_bound(nums, a):\n",
    "    l, r = -1, len(nums)  # a[(l, r]] >= a\n",
    "    while r - l > 1:\n",
    "        m = (l + r) // 2\n",
    "        if nums[m] >= a:\n",
    "            r = m\n",
    "        else:\n",
    "            l = m\n",
    "\n",
    "    return None if r == len(nums) else r"
   ]
  },
  {
   "cell_type": "code",
   "execution_count": 7,
   "metadata": {},
   "outputs": [
    {
     "data": {
      "text/plain": [
       "2"
      ]
     },
     "execution_count": 7,
     "metadata": {},
     "output_type": "execute_result"
    }
   ],
   "source": [
    "upper_bound([1, 2, 6, 7], 5)"
   ]
  },
  {
   "cell_type": "markdown",
   "metadata": {},
   "source": [
    "## sort/partition"
   ]
  },
  {
   "cell_type": "code",
   "execution_count": 8,
   "metadata": {},
   "outputs": [],
   "source": [
    "def partition3(a, lo, hi):\n",
    "    \"\"\"Splits array a into <, = and > parts.\"\"\"\n",
    "    assert 0 <= lo <= hi <= len(a) - 1\n",
    "    \n",
    "    def choose_pivot():\n",
    "        \"\"\"Guarantee to be between in [min(a), max(a)].\"\"\"\n",
    "#         return random.choice(a[lo: hi + 1])\n",
    "        return a[lo]\n",
    "    \n",
    "    pivot = choose_pivot()\n",
    "    assert min(a) <= pivot <= max(a)\n",
    "    i, j = lo, hi\n",
    "    while i <= j:\n",
    "        while i <= hi and a[i] < pivot:\n",
    "            i += 1 \n",
    "        while j >= lo and a[j] >= pivot:\n",
    "            j -= 1 \n",
    "        if i <= j:\n",
    "            a[i], a[j] = a[j], a[i]\n",
    "            i, j = i + 1, j - 1\n",
    "    \n",
    "    I = J = i\n",
    "    while i <= hi:\n",
    "        if a[i] == pivot:\n",
    "            a[i], a[J] = a[J], a[i]\n",
    "            J += 1\n",
    "        i += 1\n",
    "\n",
    "    return I, J\n",
    "\n",
    "\n",
    "def k_partition(a, k):\n",
    "    \"\"\"Kth value now at kth index position.\"\"\"\n",
    "    lo, hi = 0, len(a) - 1\n",
    "    while lo < hi:\n",
    "        i, j = partition3(a, lo, hi)\n",
    "        if k < i:\n",
    "            hi = i - 1\n",
    "        elif k < j:\n",
    "            break\n",
    "        else:\n",
    "            lo = j\n",
    "\n",
    "\n",
    "def quick_sort(a):\n",
    "    \"\"\"Sort values.\"\"\"\n",
    "    def _quick_sort(lo, hi):\n",
    "        if lo < hi:\n",
    "            i, j = partition3(a, lo, hi)\n",
    "            _quick_sort(lo, i - 1)\n",
    "            _quick_sort(j, hi)\n",
    "            \n",
    "    _quick_sort(0, len(a) - 1)"
   ]
  },
  {
   "cell_type": "code",
   "execution_count": 9,
   "metadata": {},
   "outputs": [],
   "source": [
    "def test(n):\n",
    "    return np.random.permutation(np.arange(n)).tolist()\n",
    "\n",
    "n = random.randint(10, 1000)\n",
    "k = random.randint(0, n - 1)\n",
    "a = test(n)\n",
    "k_partition(a, k)\n",
    "assert a[k] == k\n",
    "a = test(n)\n",
    "quick_sort(a)\n",
    "assert a == np.arange(n).tolist()"
   ]
  },
  {
   "cell_type": "markdown",
   "metadata": {},
   "source": [
    "## pal list"
   ]
  },
  {
   "cell_type": "code",
   "execution_count": 10,
   "metadata": {},
   "outputs": [],
   "source": [
    "class Node:\n",
    "    def __init__(self, val, next_=None):\n",
    "        self.val = val\n",
    "        self.next = next_\n",
    "\n",
    "\n",
    "def isPalindrome(head):\n",
    "    rev, fast = None, head\n",
    "    while fast and fast.next:\n",
    "        fast = fast.next.next\n",
    "        rev, rev.next, head = head, rev, head.next\n",
    "    tail = head.next if fast else head\n",
    "    isPali = True\n",
    "    while rev:\n",
    "        isPali = isPali and rev.val == tail.val\n",
    "        head, head.next, rev = rev, head, rev.next\n",
    "        tail = tail.next\n",
    "    return isPali"
   ]
  },
  {
   "cell_type": "code",
   "execution_count": 11,
   "metadata": {},
   "outputs": [
    {
     "data": {
      "text/plain": [
       "True"
      ]
     },
     "execution_count": 11,
     "metadata": {},
     "output_type": "execute_result"
    }
   ],
   "source": [
    "l = Node(1, Node(2, Node(3, Node(2, Node(1)))))\n",
    "isPalindrome(l)"
   ]
  },
  {
   "cell_type": "markdown",
   "metadata": {},
   "source": [
    "## rev list"
   ]
  },
  {
   "cell_type": "code",
   "execution_count": 12,
   "metadata": {},
   "outputs": [
    {
     "data": {
      "text/plain": [
       "'\\nhttps://leetcode.com/problems/reverse-linked-list/solution/\\n\\npublic ListNode reverseList(ListNode head) {\\n    ListNode prev = null;\\n    ListNode curr = head;\\n    while (curr != null) {\\n        ListNode nextTemp = curr.next;\\n        curr.next = prev;\\n        prev = curr;\\n        curr = nextTemp;\\n    }\\n    return prev;\\n}\\n\\npublic ListNode reverseList(ListNode head) {\\n    if (head == null || head.next == null) return head;\\n    ListNode p = reverseList(head.next);\\n    head.next.next = head;\\n    head.next = null;\\n    return p;\\n}\\n'"
      ]
     },
     "execution_count": 12,
     "metadata": {},
     "output_type": "execute_result"
    }
   ],
   "source": [
    "\"\"\"\n",
    "https://leetcode.com/problems/reverse-linked-list/solution/\n",
    "\n",
    "public ListNode reverseList(ListNode head) {\n",
    "    ListNode prev = null;\n",
    "    ListNode curr = head;\n",
    "    while (curr != null) {\n",
    "        ListNode nextTemp = curr.next;\n",
    "        curr.next = prev;\n",
    "        prev = curr;\n",
    "        curr = nextTemp;\n",
    "    }\n",
    "    return prev;\n",
    "}\n",
    "\n",
    "public ListNode reverseList(ListNode head) {\n",
    "    if (head == null || head.next == null) return head;\n",
    "    ListNode p = reverseList(head.next);\n",
    "    head.next.next = head;\n",
    "    head.next = null;\n",
    "    return p;\n",
    "}\n",
    "\"\"\""
   ]
  },
  {
   "cell_type": "markdown",
   "metadata": {},
   "source": [
    "## matrix reverse print"
   ]
  },
  {
   "cell_type": "code",
   "execution_count": 13,
   "metadata": {},
   "outputs": [],
   "source": [
    "def spiral(m):\n",
    "    \"\"\" Get list of elements in spiral order.\n",
    "    \n",
    "        x=0\n",
    "        &&&&&\n",
    "    y=0 ....&\n",
    "        ....&\n",
    "        ....&\n",
    "        ....& dy=5\n",
    "           dx=4 \n",
    "    \"\"\"\n",
    "    \n",
    "    # Dealing with matrix helpers funcs\n",
    "    x, y, dx, dy = 0, 0, len(m), len(m)\n",
    "    def rows():  return dy - y\n",
    "    def top():  return [m[y][ex] for ex in range(x, dx)]\n",
    "    def right():  return [m[ey][dx - 1] for ey in range(y + 1, dy)]\n",
    "    def bot():  return [m[dy - 1][ex] for ex in range(dx - 1, x - 1, -1)]\n",
    "    def left():  return [m[ey][x] for ey in range(dy - 2, y - 1, -1)]\n",
    "    \n",
    "    # Collecting elements\n",
    "    spiral = []\n",
    "    while rows() > 0:\n",
    "        # Stopping criteria\n",
    "        if rows() == 1:\n",
    "            spiral += top()\n",
    "            break\n",
    "    \n",
    "        # Get top and right layers\n",
    "        spiral += top() + right()\n",
    "        dx, y = dx - 1, y + 1\n",
    "        \n",
    "        # Get bot and left layers\n",
    "        spiral += bot() + left()\n",
    "        x, dy = x + 1, dy - 1\n",
    "    \n",
    "    return spiral"
   ]
  },
  {
   "cell_type": "code",
   "execution_count": 14,
   "metadata": {},
   "outputs": [],
   "source": [
    "M = [[ 1,  2,  3,  4, 5],\n",
    "     [16, 17, 18, 19, 6],\n",
    "     [15, 24, 25, 20, 7],\n",
    "     [14, 23, 22, 21, 8],\n",
    "     [13, 12, 11, 10, 9]]\n",
    "M1 = [[1]]\n",
    "\n",
    "\n",
    "assert spiral(M) == (1 + np.arange(len(M) * len(M[0]))).tolist()\n",
    "assert spiral(M1) == [1]"
   ]
  },
  {
   "cell_type": "markdown",
   "metadata": {},
   "source": [
    "## next number with same digits"
   ]
  },
  {
   "cell_type": "code",
   "execution_count": 15,
   "metadata": {},
   "outputs": [
    {
     "data": {
      "text/plain": [
       "' Idea\\n\\n123456784987654321\\nstart with a number\\n\\n123456784 987654321\\n         ^the first place from the right where the left-digit is less than the right  \\n         Digit \"x\" is 4\\n\\n123456784 987654321\\n              ^find the smallest digit larger than 4 to the right\\n\\n123456785 4 98764321\\n        ^place it to the left of 4\\n\\n123456785 4 12346789\\n123456785123446789\\n         ^sort the digits to the right of 5.  Since all of them except \\n         the \\'4\\' were already in descending order, all we need to do is \\n         reverse their order, and find the correct place for the \\'4\\'\\n'"
      ]
     },
     "execution_count": 15,
     "metadata": {},
     "output_type": "execute_result"
    }
   ],
   "source": [
    "\"\"\" Idea\n",
    "\n",
    "123456784987654321\n",
    "start with a number\n",
    "\n",
    "123456784 987654321\n",
    "         ^the first place from the right where the left-digit is less than the right  \n",
    "         Digit \"x\" is 4\n",
    "\n",
    "123456784 987654321\n",
    "              ^find the smallest digit larger than 4 to the right\n",
    "\n",
    "123456785 4 98764321\n",
    "        ^place it to the left of 4\n",
    "\n",
    "123456785 4 12346789\n",
    "123456785123446789\n",
    "         ^sort the digits to the right of 5.  Since all of them except \n",
    "         the '4' were already in descending order, all we need to do is \n",
    "         reverse their order, and find the correct place for the '4'\n",
    "\"\"\""
   ]
  },
  {
   "cell_type": "markdown",
   "metadata": {},
   "source": [
    "## tortoise and hare"
   ]
  },
  {
   "cell_type": "code",
   "execution_count": 16,
   "metadata": {},
   "outputs": [],
   "source": [
    "class Solution:\n",
    "    def findDuplicate(self, nums):\n",
    "        # Find the intersection point of the two runners.\n",
    "        tortoise = nums[0]\n",
    "        hare = nums[0]\n",
    "        while True:\n",
    "            tortoise = nums[tortoise]\n",
    "            hare = nums[nums[hare]]\n",
    "            if tortoise == hare:\n",
    "                break\n",
    "        \n",
    "        # Find the \"entrance\" to the cycle.\n",
    "        ptr1 = nums[0]\n",
    "        ptr2 = tortoise\n",
    "        while ptr1 != ptr2:\n",
    "            ptr1 = nums[ptr1]\n",
    "            ptr2 = nums[ptr2]\n",
    "        \n",
    "        return ptr1"
   ]
  },
  {
   "cell_type": "markdown",
   "metadata": {},
   "source": [
    "## alien language"
   ]
  },
  {
   "cell_type": "code",
   "execution_count": 17,
   "metadata": {},
   "outputs": [],
   "source": [
    "def alienOrder(words):\n",
    "    less = []\n",
    "    for pair in zip(words, words[1:]):\n",
    "        for a, b in zip(*pair):\n",
    "            if a != b:\n",
    "                less += a + b,\n",
    "                break\n",
    "    chars = set(''.join(words))\n",
    "    order = []\n",
    "    while less:\n",
    "        free = chars - set(c2 for _, c2 in less)\n",
    "        if not free:\n",
    "            return ''\n",
    "        order += free\n",
    "        less = [l for l in less if free.isdisjoint(l)]\n",
    "        chars -= free\n",
    "    return ''.join(order + list(chars))"
   ]
  },
  {
   "cell_type": "code",
   "execution_count": 18,
   "metadata": {},
   "outputs": [
    {
     "data": {
      "text/plain": [
       "'wertf'"
      ]
     },
     "execution_count": 18,
     "metadata": {},
     "output_type": "execute_result"
    }
   ],
   "source": [
    "alienOrder([\"wrt\", \"wrf\", \"er\", \"ett\", \"rftt\"])"
   ]
  },
  {
   "cell_type": "markdown",
   "metadata": {},
   "source": [
    "## lru cache"
   ]
  },
  {
   "cell_type": "code",
   "execution_count": 19,
   "metadata": {},
   "outputs": [],
   "source": [
    "from collections import OrderedDict\n",
    "\n",
    "class LRUCache(object):\n",
    "    def __init__(self, capacity):\n",
    "        self.array = OrderedDict()\n",
    "        self.capacity = capacity\n",
    "\n",
    "    def get(self, key):\n",
    "        if key in self.array:\n",
    "            value = self.array[key]\n",
    "            # Remove first\n",
    "            del self.array[key]\n",
    "            # Add back in\n",
    "            self.array[key] = value\n",
    "            return value\n",
    "        else:\n",
    "            return -1\n",
    "\n",
    "    def put(self, key, value):\n",
    "        if key in self.array:\n",
    "            # Delete existing key before refreshing it\n",
    "            del self.array[key]\n",
    "        elif len(self.array) >= self.capacity:\n",
    "            # Delete oldest\n",
    "            self.array.popitem()\n",
    "        self.array[key] = value"
   ]
  },
  {
   "cell_type": "code",
   "execution_count": 20,
   "metadata": {},
   "outputs": [
    {
     "name": "stdout",
     "output_type": "stream",
     "text": [
      "None\n",
      "None\n",
      "1\n",
      "None\n",
      "2\n",
      "None\n",
      "-1\n",
      "3\n"
     ]
    },
    {
     "data": {
      "text/plain": [
       "4"
      ]
     },
     "execution_count": 20,
     "metadata": {},
     "output_type": "execute_result"
    }
   ],
   "source": [
    "cache = LRUCache(2)\n",
    "print(cache.put(1, 1))\n",
    "print(cache.put(2, 2))\n",
    "print(cache.get(1)) \n",
    "print(cache.put(3, 3))\n",
    "print(cache.get(2))\n",
    "print(cache.put(4, 4))\n",
    "print(cache.get(1))\n",
    "print(cache.get(3))\n",
    "cache.get(4)"
   ]
  },
  {
   "cell_type": "markdown",
   "metadata": {},
   "source": [
    "## add two numbers"
   ]
  },
  {
   "cell_type": "code",
   "execution_count": 21,
   "metadata": {},
   "outputs": [],
   "source": [
    "# Definition for singly-linked list.\n",
    "# class ListNode(object):\n",
    "#     def __init__(self, x):\n",
    "#         self.val = x\n",
    "#         self.next = None\n",
    "\n",
    "class Solution(object):\n",
    "    def addTwoNumbers(self, l1, l2):\n",
    "        \"\"\"\n",
    "        :type l1: ListNode\n",
    "        :type l2: ListNode\n",
    "        :rtype: ListNode\n",
    "        \"\"\"\n",
    "        \n",
    "        # Useful funcs\n",
    "        def val(n):  return n.val if n else 0\n",
    "        def next_(n):  return n.next if n else None\n",
    "        \n",
    "        # Main machinery\n",
    "        def add(n1, n2, one=0):\n",
    "            s = val(n1) + val(n2) + one\n",
    "            if not n1 and not n2 and not s:\n",
    "                return None\n",
    "            else:\n",
    "                nn = ListNode(s % 10)\n",
    "                nn.next = add(next_(n1), next_(n2), s // 10)\n",
    "                return nn\n",
    "            \n",
    "        return add(l1, l2)"
   ]
  },
  {
   "cell_type": "markdown",
   "metadata": {},
   "source": [
    "## bst it"
   ]
  },
  {
   "cell_type": "code",
   "execution_count": 22,
   "metadata": {},
   "outputs": [],
   "source": [
    "class BSTIterator:\n",
    "    # @param root, a binary search tree's root node\n",
    "    def __init__(self, root):\n",
    "        self.stack = list()\n",
    "        self.pushAll(root)\n",
    "\n",
    "    # @return a boolean, whether we have a next smallest number\n",
    "    def hasNext(self):\n",
    "        return self.stack\n",
    "\n",
    "    # @return an integer, the next smallest number\n",
    "    def next(self):\n",
    "        tmpNode = self.stack.pop()\n",
    "        self.pushAll(tmpNode.right)\n",
    "        return tmpNode.val\n",
    "        \n",
    "    def pushAll(self, node):\n",
    "        while node is not None:\n",
    "            self.stack.append(node)\n",
    "            node = node.left"
   ]
  },
  {
   "cell_type": "markdown",
   "metadata": {},
   "source": [
    "## sliding windows str"
   ]
  },
  {
   "cell_type": "code",
   "execution_count": 23,
   "metadata": {},
   "outputs": [],
   "source": [
    "def minWindow(s, t):\n",
    "    need, missing = Counter(t), len(t)\n",
    "    i = I = J = 0\n",
    "    for j, c in enumerate(s, 1):\n",
    "        missing -= need[c] > 0\n",
    "        need[c] -= 1\n",
    "        if not missing:\n",
    "            while i < j and need[s[i]] < 0:\n",
    "                need[s[i]] += 1\n",
    "                i += 1\n",
    "            if not J or j - i <= J - I:\n",
    "                I, J = i, j\n",
    "    return s[I:J]"
   ]
  },
  {
   "cell_type": "code",
   "execution_count": 24,
   "metadata": {},
   "outputs": [
    {
     "data": {
      "text/plain": [
       "'BANC'"
      ]
     },
     "execution_count": 24,
     "metadata": {},
     "output_type": "execute_result"
    }
   ],
   "source": [
    "minWindow('ADOBECODEBANC', 'ABC')"
   ]
  },
  {
   "cell_type": "markdown",
   "metadata": {},
   "source": [
    "## lca"
   ]
  },
  {
   "cell_type": "code",
   "execution_count": 25,
   "metadata": {},
   "outputs": [],
   "source": [
    "def lowestCommonAncestor(self, root, p, q):\n",
    "    if root in (None, p, q): return root\n",
    "    left, right = (self.lowestCommonAncestor(kid, p, q)\n",
    "                   for kid in (root.left, root.right))\n",
    "    return root if left and right else left or right"
   ]
  },
  {
   "cell_type": "markdown",
   "metadata": {},
   "source": [
    "# misc"
   ]
  },
  {
   "cell_type": "markdown",
   "metadata": {},
   "source": [
    "## minlist + queue 2 stacks"
   ]
  },
  {
   "cell_type": "code",
   "execution_count": 26,
   "metadata": {},
   "outputs": [],
   "source": [
    "class MinList(UserList):\n",
    "    def append(self, item):\n",
    "        if self.data:\n",
    "            self.data.append((item, min(item, self.data[-1][1])))\n",
    "        else:\n",
    "            self.data.append((item, item))"
   ]
  },
  {
   "cell_type": "code",
   "execution_count": 27,
   "metadata": {},
   "outputs": [],
   "source": [
    "class S2Queue:\n",
    "    def __init__(self):\n",
    "        self.s1 = MinList()\n",
    "        self.s2 = MinList()\n",
    "    \n",
    "    def add(self, item):\n",
    "        self.s1.append(item)\n",
    "    \n",
    "    def pop(self):\n",
    "        if not self.s2:\n",
    "            for e, _ in reversed(self.s1):\n",
    "                self.s2.append(e)\n",
    "            self.s1 = []\n",
    "        return self.s2.pop()[0]\n",
    "    \n",
    "    def min(self):\n",
    "        ans = None\n",
    "        if self.s1:  ans = self.s1[-1][1]\n",
    "        if self.s2 and ans is not None: \n",
    "            ans = min(ans, self.s2[-1][1])\n",
    "        else:\n",
    "            ans = self.s2[-1][1]\n",
    "        return ans"
   ]
  },
  {
   "cell_type": "code",
   "execution_count": 28,
   "metadata": {},
   "outputs": [
    {
     "data": {
      "text/plain": [
       "(1, 2)"
      ]
     },
     "execution_count": 28,
     "metadata": {},
     "output_type": "execute_result"
    }
   ],
   "source": [
    "q = S2Queue()\n",
    "q.add(1); q.add(2); q.add(5); q.add(3)\n",
    "q.pop(), q.min()"
   ]
  },
  {
   "cell_type": "markdown",
   "metadata": {},
   "source": [
    "## dsu"
   ]
  },
  {
   "cell_type": "markdown",
   "metadata": {},
   "source": [
    "https://github.com/imressed/python-disjoint-set/blob/master/disjoint_set.py"
   ]
  },
  {
   "cell_type": "markdown",
   "metadata": {},
   "source": [
    "## merge lists"
   ]
  },
  {
   "cell_type": "code",
   "execution_count": 29,
   "metadata": {},
   "outputs": [],
   "source": [
    "def merge(l1, l2):\n",
    "    return list(hq.merge(l1, l2))"
   ]
  },
  {
   "cell_type": "code",
   "execution_count": 30,
   "metadata": {},
   "outputs": [
    {
     "data": {
      "text/plain": [
       "[1, 1, 2, 3, 4, 5]"
      ]
     },
     "execution_count": 30,
     "metadata": {},
     "output_type": "execute_result"
    }
   ],
   "source": [
    "merge([1, 2, 3], [1, 4, 5])"
   ]
  },
  {
   "cell_type": "markdown",
   "metadata": {},
   "source": [
    "## test"
   ]
  },
  {
   "cell_type": "code",
   "execution_count": 31,
   "metadata": {},
   "outputs": [],
   "source": [
    "def solve_task(nums):\n",
    "    return [n ** 2 for n in nums]\n",
    "\n",
    "\n",
    "class TestTask(unittest.TestCase):\n",
    "    def test_task(self):\n",
    "        self.assertEqual([4, 9], solve_task([2, 3]))\n",
    "\n",
    "\n",
    "# unittest.main(exit=False)"
   ]
  },
  {
   "cell_type": "markdown",
   "metadata": {},
   "source": [
    "## heap usage"
   ]
  },
  {
   "cell_type": "code",
   "execution_count": 32,
   "metadata": {},
   "outputs": [
    {
     "data": {
      "text/plain": [
       "(0, 1)"
      ]
     },
     "execution_count": 32,
     "metadata": {},
     "output_type": "execute_result"
    }
   ],
   "source": [
    "# Also, see `heapq.merge`, `heapq.nlargest` and `heapq.nsmallest`.\n",
    "a = [1, 2, 8, 4, 7, 9]\n",
    "hq.heapify(a)\n",
    "hq.heappush(a, 0)\n",
    "hq.heappush(a, 10)\n",
    "hq.heappop(a), hq.heappop(a)"
   ]
  },
  {
   "cell_type": "code",
   "execution_count": 33,
   "metadata": {},
   "outputs": [],
   "source": [
    "def _heappush_max(heap, item):\n",
    "    heap.append(item)\n",
    "    hq._siftdown_max(heap, 0, len(heap) - 1)"
   ]
  },
  {
   "cell_type": "code",
   "execution_count": 34,
   "metadata": {},
   "outputs": [
    {
     "data": {
      "text/plain": [
       "(10, 9)"
      ]
     },
     "execution_count": 34,
     "metadata": {},
     "output_type": "execute_result"
    }
   ],
   "source": [
    "a = [1, 2, 8, 4, 7, 9]\n",
    "hq._heapify_max(a)\n",
    "_heappush_max(a, 0)\n",
    "_heappush_max(a, 10)\n",
    "hq._heappop_max(a), hq._heappop_max(a)"
   ]
  },
  {
   "cell_type": "markdown",
   "metadata": {},
   "source": [
    "## zero array"
   ]
  },
  {
   "cell_type": "code",
   "execution_count": 35,
   "metadata": {},
   "outputs": [
    {
     "data": {
      "text/plain": [
       "[[0, 0, 0, 0, 0, 0, 0, 0, 0, 0],\n",
       " [0, 0, 0, 0, 0, 0, 0, 0, 0, 0],\n",
       " [0, 0, 0, 0, 0, 0, 0, 0, 0, 0],\n",
       " [0, 0, 0, 0, 0, 0, 0, 0, 0, 0],\n",
       " [0, 0, 0, 0, 0, 0, 0, 0, 0, 0],\n",
       " [0, 0, 0, 0, 0, 0, 0, 0, 0, 0],\n",
       " [0, 0, 0, 0, 0, 0, 0, 0, 0, 0]]"
      ]
     },
     "execution_count": 35,
     "metadata": {},
     "output_type": "execute_result"
    }
   ],
   "source": [
    "np.zeros((7, 10), dtype=np.int).tolist()"
   ]
  },
  {
   "cell_type": "code",
   "execution_count": 36,
   "metadata": {},
   "outputs": [
    {
     "data": {
      "text/plain": [
       "[[0, 0, 0, 0, 0, 0, 0, 0, 0, 0],\n",
       " [0, 0, 0, 0, 0, 0, 0, 0, 0, 0],\n",
       " [0, 0, 0, 0, 0, 0, 0, 0, 0, 0],\n",
       " [0, 0, 0, 0, 0, 0, 0, 0, 0, 0],\n",
       " [0, 0, 0, 0, 0, 0, 0, 0, 0, 0],\n",
       " [0, 0, 0, 0, 0, 0, 0, 0, 0, 0],\n",
       " [0, 0, 0, 0, 0, 0, 0, 0, 0, 0]]"
      ]
     },
     "execution_count": 36,
     "metadata": {},
     "output_type": "execute_result"
    }
   ],
   "source": [
    "[[0 for _ in range(10)] for _ in range(7)]  # 7x10"
   ]
  },
  {
   "cell_type": "markdown",
   "metadata": {},
   "source": [
    "## str sort"
   ]
  },
  {
   "cell_type": "code",
   "execution_count": 37,
   "metadata": {},
   "outputs": [],
   "source": [
    "def sort_str(s):\n",
    "    \"\"\"O(n)\"\"\"\n",
    "    cnt = defaultdict(int)\n",
    "    for c in s:\n",
    "        cnt[c] += 1\n",
    "    \n",
    "    l = []\n",
    "    for c in ascii_lowercase:\n",
    "        for _ in range(cnt[c]):\n",
    "            l.append(c)\n",
    "    \n",
    "    return ''.join(l)"
   ]
  },
  {
   "cell_type": "code",
   "execution_count": 38,
   "metadata": {},
   "outputs": [
    {
     "data": {
      "text/plain": [
       "'aaaaaaddddddhiiiijnssuwww'"
      ]
     },
     "execution_count": 38,
     "metadata": {},
     "output_type": "execute_result"
    }
   ],
   "source": [
    "sort_str('asdasdiadiwjdandiawdhaiuw')"
   ]
  },
  {
   "cell_type": "markdown",
   "metadata": {},
   "source": [
    "## str rev"
   ]
  },
  {
   "cell_type": "code",
   "execution_count": 39,
   "metadata": {},
   "outputs": [
    {
     "data": {
      "text/plain": [
       "'kdiwajdisakidsa'"
      ]
     },
     "execution_count": 39,
     "metadata": {},
     "output_type": "execute_result"
    }
   ],
   "source": [
    "'asdikasidjawidk'[::-1]"
   ]
  },
  {
   "cell_type": "code",
   "execution_count": 40,
   "metadata": {},
   "outputs": [
    {
     "data": {
      "text/plain": [
       "'kdskadsa'"
      ]
     },
     "execution_count": 40,
     "metadata": {},
     "output_type": "execute_result"
    }
   ],
   "source": [
    "''.join(list(reversed('asdaksdk')))"
   ]
  },
  {
   "cell_type": "markdown",
   "metadata": {},
   "source": [
    "## bin"
   ]
  },
  {
   "cell_type": "code",
   "execution_count": 41,
   "metadata": {},
   "outputs": [
    {
     "data": {
      "text/plain": [
       "'10101101000000111001000000101011101000101111100010000011001111010110100111110'"
      ]
     },
     "execution_count": 41,
     "metadata": {},
     "output_type": "execute_result"
    }
   ],
   "source": [
    "bin(102129391293102931029310)[2:]"
   ]
  },
  {
   "cell_type": "markdown",
   "metadata": {},
   "source": [
    "## deque"
   ]
  },
  {
   "cell_type": "code",
   "execution_count": 42,
   "metadata": {},
   "outputs": [],
   "source": [
    "q = deque([1, 2, 3], maxlen=10)\n",
    "# q.append, q.appendleft, q.clear, q.copy, q.count\n",
    "# q.extend, q.extendleft, q.index(x[, start[, stop]])\n",
    "# q.insert(i, x), q.pop, q.popleft, q.remove~first occurence\n",
    "# q.reverse, q.rotate"
   ]
  }
 ],
 "metadata": {
  "kernelspec": {
   "display_name": "Python 3",
   "language": "python",
   "name": "python3"
  },
  "language_info": {
   "codemirror_mode": {
    "name": "ipython",
    "version": 3
   },
   "file_extension": ".py",
   "mimetype": "text/x-python",
   "name": "python",
   "nbconvert_exporter": "python",
   "pygments_lexer": "ipython3",
   "version": "3.6.2"
  }
 },
 "nbformat": 4,
 "nbformat_minor": 2
}
