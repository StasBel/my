{
 "cells": [
  {
   "cell_type": "code",
   "execution_count": 1,
   "metadata": {},
   "outputs": [],
   "source": [
    "import random\n",
    "import unittest\n",
    "import numpy as np\n",
    "\n",
    "from collections import deque"
   ]
  },
  {
   "cell_type": "markdown",
   "metadata": {},
   "source": [
    "## topsort/dfs"
   ]
  },
  {
   "cell_type": "code",
   "execution_count": 2,
   "metadata": {},
   "outputs": [],
   "source": [
    "def top_sort(G):\n",
    "    used, T = set(), []\n",
    "\n",
    "    def dfs(v):\n",
    "        used.add(v)\n",
    "        [dfs(u) for u in G[v] if u not in used]\n",
    "        T.append(v)\n",
    "    \n",
    "    [dfs(v) for v in range(len(G)) if v not in used]\n",
    "    \n",
    "    return list(reversed(T))"
   ]
  },
  {
   "cell_type": "code",
   "execution_count": 3,
   "metadata": {},
   "outputs": [
    {
     "data": {
      "text/plain": [
       "[2, 1, 0, 4, 3]"
      ]
     },
     "execution_count": 3,
     "metadata": {},
     "output_type": "execute_result"
    }
   ],
   "source": [
    "top_sort(G=[[3, 4], [4], [0, 1], [], []])"
   ]
  },
  {
   "cell_type": "markdown",
   "metadata": {},
   "source": [
    "## bfs"
   ]
  },
  {
   "cell_type": "code",
   "execution_count": 4,
   "metadata": {},
   "outputs": [],
   "source": [
    "def bfs(g):\n",
    "    used, q, d = set(), deque(), [0 for _ in range(len(g))]\n",
    "    \n",
    "    used.add(0)\n",
    "    q.append(0)\n",
    "    d[0] = 0\n",
    "    \n",
    "    while len(q):\n",
    "        v = q.popleft()\n",
    "        for u in g[v]:\n",
    "            if u not in used:\n",
    "                used.add(u)\n",
    "                q.append(u)\n",
    "                d[u] = d[v] + 1\n",
    "    \n",
    "    return d"
   ]
  },
  {
   "cell_type": "code",
   "execution_count": 5,
   "metadata": {},
   "outputs": [
    {
     "data": {
      "text/plain": [
       "[0, 1]"
      ]
     },
     "execution_count": 5,
     "metadata": {},
     "output_type": "execute_result"
    }
   ],
   "source": [
    "bfs(g=[[1], []])"
   ]
  },
  {
   "cell_type": "markdown",
   "metadata": {},
   "source": [
    "## binsearch"
   ]
  },
  {
   "cell_type": "code",
   "execution_count": 6,
   "metadata": {},
   "outputs": [],
   "source": [
    "def upper_bound(nums, a):\n",
    "    l, r = -1, len(nums)  # a[(l, r]] >= a\n",
    "    while r - l > 1:\n",
    "        m = (l + r) // 2\n",
    "        if nums[m] >= a:\n",
    "            r = m\n",
    "        else:\n",
    "            l = m\n",
    "\n",
    "    return None if r == len(nums) else r"
   ]
  },
  {
   "cell_type": "code",
   "execution_count": 7,
   "metadata": {},
   "outputs": [
    {
     "data": {
      "text/plain": [
       "2"
      ]
     },
     "execution_count": 7,
     "metadata": {},
     "output_type": "execute_result"
    }
   ],
   "source": [
    "upper_bound([1, 2, 6, 7], 5)"
   ]
  },
  {
   "cell_type": "markdown",
   "metadata": {},
   "source": [
    "## sort/partition"
   ]
  },
  {
   "cell_type": "code",
   "execution_count": 8,
   "metadata": {},
   "outputs": [],
   "source": [
    "def partition3(a, lo, hi):\n",
    "    \"\"\"Splits array a into <, = and > parts.\"\"\"\n",
    "    assert 0 <= lo <= hi <= len(a) - 1\n",
    "    \n",
    "    def choose_pivot():\n",
    "        \"\"\"Guarantee to be between in [min(a), max(a)].\"\"\"\n",
    "#         return random.choice(a[lo: hi + 1])\n",
    "        return a[lo]\n",
    "    \n",
    "    pivot = choose_pivot()\n",
    "    assert min(a) <= pivot <= max(a)\n",
    "    i, j = lo, hi\n",
    "    while i <= j:\n",
    "        while i <= hi and a[i] < pivot:\n",
    "            i += 1 \n",
    "        while j >= lo and a[j] >= pivot:\n",
    "            j -= 1 \n",
    "        if i <= j:\n",
    "            a[i], a[j] = a[j], a[i]\n",
    "            i, j = i + 1, j - 1\n",
    "    \n",
    "    I = J = i\n",
    "    while i <= hi:\n",
    "        if a[i] == pivot:\n",
    "            a[i], a[J] = a[J], a[i]\n",
    "            J += 1\n",
    "        i += 1\n",
    "\n",
    "    return I, J\n",
    "\n",
    "\n",
    "def k_partition(a, k):\n",
    "    \"\"\"Kth value now at kth index position.\"\"\"\n",
    "    lo, hi = 0, len(a) - 1\n",
    "    while lo < hi:\n",
    "        i, j = partition3(a, lo, hi)\n",
    "        if k < i:\n",
    "            hi = i - 1\n",
    "        elif k < j:\n",
    "            break\n",
    "        else:\n",
    "            lo = j\n",
    "\n",
    "\n",
    "def quick_sort(a):\n",
    "    \"\"\"Sort values.\"\"\"\n",
    "    def _quick_sort(lo, hi):\n",
    "        if lo < hi:\n",
    "            i, j = partition3(a, lo, hi)\n",
    "            _quick_sort(lo, i - 1)\n",
    "            _quick_sort(j, hi)\n",
    "            \n",
    "    _quick_sort(0, len(a) - 1)"
   ]
  },
  {
   "cell_type": "code",
   "execution_count": 9,
   "metadata": {},
   "outputs": [],
   "source": [
    "def test(n):\n",
    "    return np.random.permutation(np.arange(n)).tolist()\n",
    "\n",
    "n = random.randint(10, 1000)\n",
    "k = random.randint(0, n - 1)\n",
    "a = test(n)\n",
    "k_partition(a, k)\n",
    "assert a[k] == k\n",
    "a = test(n)\n",
    "quick_sort(a)\n",
    "assert a == np.arange(n).tolist()"
   ]
  },
  {
   "cell_type": "markdown",
   "metadata": {},
   "source": [
    "## reversing list"
   ]
  },
  {
   "cell_type": "code",
   "execution_count": 10,
   "metadata": {},
   "outputs": [],
   "source": [
    "class Node:\n",
    "    def __init__(self, val, next_=None):\n",
    "        self.val = val\n",
    "        self.next = next_\n",
    "\n",
    "\n",
    "def isPalindrome(head):\n",
    "    rev, fast = None, head\n",
    "    while fast and fast.next:\n",
    "        fast = fast.next.next\n",
    "        rev, rev.next, head = head, rev, head.next\n",
    "    tail = head.next if fast else head\n",
    "    isPali = True\n",
    "    while rev:\n",
    "        isPali = isPali and rev.val == tail.val\n",
    "        head, head.next, rev = rev, head, rev.next\n",
    "        tail = tail.next\n",
    "    return isPali"
   ]
  },
  {
   "cell_type": "code",
   "execution_count": 11,
   "metadata": {},
   "outputs": [
    {
     "data": {
      "text/plain": [
       "True"
      ]
     },
     "execution_count": 11,
     "metadata": {},
     "output_type": "execute_result"
    }
   ],
   "source": [
    "l = Node(1, Node(2, Node(3, Node(2, Node(1)))))\n",
    "isPalindrome(l)"
   ]
  },
  {
   "cell_type": "markdown",
   "metadata": {},
   "source": [
    "## test"
   ]
  },
  {
   "cell_type": "code",
   "execution_count": 12,
   "metadata": {},
   "outputs": [],
   "source": [
    "def solve_task(nums):\n",
    "    return [n ** 2 for n in nums]\n",
    "\n",
    "\n",
    "class TestTask(unittest.TestCase):\n",
    "    def test_task(self):\n",
    "        self.assertEqual([4, 9], solve_task([2, 3]))\n",
    "\n",
    "\n",
    "# unittest.main(exit=False)"
   ]
  },
  {
   "cell_type": "markdown",
   "metadata": {},
   "source": [
    "## zero array"
   ]
  },
  {
   "cell_type": "code",
   "execution_count": 13,
   "metadata": {},
   "outputs": [
    {
     "data": {
      "text/plain": [
       "[[0, 0, 0, 0, 0, 0, 0, 0, 0, 0],\n",
       " [0, 0, 0, 0, 0, 0, 0, 0, 0, 0],\n",
       " [0, 0, 0, 0, 0, 0, 0, 0, 0, 0],\n",
       " [0, 0, 0, 0, 0, 0, 0, 0, 0, 0],\n",
       " [0, 0, 0, 0, 0, 0, 0, 0, 0, 0],\n",
       " [0, 0, 0, 0, 0, 0, 0, 0, 0, 0],\n",
       " [0, 0, 0, 0, 0, 0, 0, 0, 0, 0]]"
      ]
     },
     "execution_count": 13,
     "metadata": {},
     "output_type": "execute_result"
    }
   ],
   "source": [
    "np.zeros((7, 10), dtype=np.int).tolist()"
   ]
  },
  {
   "cell_type": "code",
   "execution_count": 14,
   "metadata": {},
   "outputs": [
    {
     "data": {
      "text/plain": [
       "[[0, 0, 0, 0, 0, 0, 0, 0, 0, 0],\n",
       " [0, 0, 0, 0, 0, 0, 0, 0, 0, 0],\n",
       " [0, 0, 0, 0, 0, 0, 0, 0, 0, 0],\n",
       " [0, 0, 0, 0, 0, 0, 0, 0, 0, 0],\n",
       " [0, 0, 0, 0, 0, 0, 0, 0, 0, 0],\n",
       " [0, 0, 0, 0, 0, 0, 0, 0, 0, 0],\n",
       " [0, 0, 0, 0, 0, 0, 0, 0, 0, 0]]"
      ]
     },
     "execution_count": 14,
     "metadata": {},
     "output_type": "execute_result"
    }
   ],
   "source": [
    "[[0 for _ in range(10)] for _ in range(7)]  # 7x10"
   ]
  }
 ],
 "metadata": {
  "kernelspec": {
   "display_name": "Python 3",
   "language": "python",
   "name": "python3"
  },
  "language_info": {
   "codemirror_mode": {
    "name": "ipython",
    "version": 3
   },
   "file_extension": ".py",
   "mimetype": "text/x-python",
   "name": "python",
   "nbconvert_exporter": "python",
   "pygments_lexer": "ipython3",
   "version": "3.6.2"
  }
 },
 "nbformat": 4,
 "nbformat_minor": 2
}
