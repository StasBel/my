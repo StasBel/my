{
 "cells": [
  {
   "cell_type": "code",
   "execution_count": 2,
   "metadata": {},
   "outputs": [],
   "source": [
    "import numpy as np"
   ]
  },
  {
   "cell_type": "code",
   "execution_count": 47,
   "metadata": {},
   "outputs": [],
   "source": [
    "n = 3"
   ]
  },
  {
   "cell_type": "code",
   "execution_count": 48,
   "metadata": {},
   "outputs": [
    {
     "data": {
      "text/plain": [
       "array([[2., 1., 0.],\n",
       "       [1., 2., 1.],\n",
       "       [0., 1., 2.]])"
      ]
     },
     "execution_count": 48,
     "metadata": {},
     "output_type": "execute_result"
    }
   ],
   "source": [
    "A = np.diag(np.ones(n - 1), 1) + np.diag(np.ones(n) * 2) + np.diag(np.ones(n - 1), -1);\n",
    "A"
   ]
  },
  {
   "cell_type": "code",
   "execution_count": 49,
   "metadata": {},
   "outputs": [
    {
     "data": {
      "text/plain": [
       "(3, 3)"
      ]
     },
     "execution_count": 49,
     "metadata": {},
     "output_type": "execute_result"
    }
   ],
   "source": [
    "A.shape"
   ]
  },
  {
   "cell_type": "code",
   "execution_count": 50,
   "metadata": {},
   "outputs": [
    {
     "data": {
      "text/plain": [
       "4.0"
      ]
     },
     "execution_count": 50,
     "metadata": {},
     "output_type": "execute_result"
    }
   ],
   "source": [
    "np.linalg.det(A)"
   ]
  },
  {
   "cell_type": "code",
   "execution_count": 60,
   "metadata": {},
   "outputs": [],
   "source": [
    "a_1 = np.array([1, -1, 1, -1])\n",
    "a_2 = np.array([1, 1, 1, 1])\n",
    "x = np.array([19, 5, 5, -1])"
   ]
  },
  {
   "cell_type": "code",
   "execution_count": 62,
   "metadata": {},
   "outputs": [
    {
     "data": {
      "text/plain": [
       "(20, 4, 0)"
      ]
     },
     "execution_count": 62,
     "metadata": {},
     "output_type": "execute_result"
    }
   ],
   "source": [
    "x @ a_1, a_1 @ a_1, a_2 @ a_1"
   ]
  },
  {
   "cell_type": "code",
   "execution_count": 63,
   "metadata": {},
   "outputs": [
    {
     "data": {
      "text/plain": [
       "(28, 0, 4)"
      ]
     },
     "execution_count": 63,
     "metadata": {},
     "output_type": "execute_result"
    }
   ],
   "source": [
    "x @ a_2, a_1 @ a_2, a_2 @ a_2"
   ]
  },
  {
   "cell_type": "code",
   "execution_count": 65,
   "metadata": {},
   "outputs": [],
   "source": [
    "p_1 = 20 / 4\n",
    "p_2 = 28 / 4"
   ]
  },
  {
   "cell_type": "code",
   "execution_count": 66,
   "metadata": {},
   "outputs": [
    {
     "data": {
      "text/plain": [
       "(5.0, 7.0)"
      ]
     },
     "execution_count": 66,
     "metadata": {},
     "output_type": "execute_result"
    }
   ],
   "source": [
    "p_1, p_2"
   ]
  },
  {
   "cell_type": "code",
   "execution_count": 67,
   "metadata": {},
   "outputs": [
    {
     "data": {
      "text/plain": [
       "array([12.,  2., 12.,  2.])"
      ]
     },
     "execution_count": 67,
     "metadata": {},
     "output_type": "execute_result"
    }
   ],
   "source": [
    "p_1 * a_1 + p_2 * a_2"
   ]
  },
  {
   "cell_type": "code",
   "execution_count": 85,
   "metadata": {},
   "outputs": [],
   "source": [
    "p_1 = 12\n",
    "p_2 = (28 - 4 * p_1) / 2"
   ]
  },
  {
   "cell_type": "code",
   "execution_count": 59,
   "metadata": {},
   "outputs": [
    {
     "data": {
      "text/plain": [
       "array([12.,  2., 12.,  2.])"
      ]
     },
     "execution_count": 59,
     "metadata": {},
     "output_type": "execute_result"
    }
   ],
   "source": [
    "p_1 * a_1 + p_2 * a_2"
   ]
  },
  {
   "cell_type": "code",
   "execution_count": 68,
   "metadata": {},
   "outputs": [],
   "source": [
    "def f(n):\n",
    "    return (np.arange(n - 1) / (n ** 2)).sum()"
   ]
  },
  {
   "cell_type": "code",
   "execution_count": 76,
   "metadata": {},
   "outputs": [
    {
     "data": {
      "text/plain": [
       "0.49985000999999996"
      ]
     },
     "execution_count": 76,
     "metadata": {},
     "output_type": "execute_result"
    }
   ],
   "source": [
    "f(10000)"
   ]
  },
  {
   "cell_type": "code",
   "execution_count": 79,
   "metadata": {},
   "outputs": [
    {
     "data": {
      "text/plain": [
       "0.06041524334615385"
      ]
     },
     "execution_count": 79,
     "metadata": {},
     "output_type": "execute_result"
    }
   ],
   "source": [
    "a, b, r = 9, 13, 3\n",
    "pi = 3.141592654\n",
    "pi * (r ** 2) / (a * b * 4)"
   ]
  },
  {
   "cell_type": "code",
   "execution_count": 81,
   "metadata": {},
   "outputs": [
    {
     "data": {
      "text/plain": [
       "array([-0.37228132,  5.37228132])"
      ]
     },
     "execution_count": 81,
     "metadata": {},
     "output_type": "execute_result"
    }
   ],
   "source": [
    "np.linalg.eig([[1, 2], [3, 4]])[0]"
   ]
  },
  {
   "cell_type": "code",
   "execution_count": 84,
   "metadata": {},
   "outputs": [
    {
     "data": {
      "text/plain": [
       "array([-0.37228132,  5.37228132])"
      ]
     },
     "execution_count": 84,
     "metadata": {},
     "output_type": "execute_result"
    }
   ],
   "source": [
    "np.linalg.eig([[-129, 116], [-149, 134]])[0]"
   ]
  },
  {
   "cell_type": "code",
   "execution_count": 87,
   "metadata": {},
   "outputs": [],
   "source": [
    "s = np.array([30, 20, 20])\n",
    "p = np.array([0.9, 0.75, 0.8])"
   ]
  },
  {
   "cell_type": "code",
   "execution_count": 92,
   "metadata": {},
   "outputs": [],
   "source": [
    "P_Vszg = (s / s.sum()) * p"
   ]
  },
  {
   "cell_type": "code",
   "execution_count": 95,
   "metadata": {},
   "outputs": [
    {
     "data": {
      "text/plain": [
       "array([0.4655, 0.2586, 0.2759])"
      ]
     },
     "execution_count": 95,
     "metadata": {},
     "output_type": "execute_result"
    }
   ],
   "source": [
    "np.around(P_Vszg / P_Vszg.sum(), 4)b"
   ]
  },
  {
   "cell_type": "code",
   "execution_count": null,
   "metadata": {},
   "outputs": [],
   "source": [
    "!"
   ]
  },
  {
   "cell_type": "code",
   "execution_count": 102,
   "metadata": {},
   "outputs": [],
   "source": [
    "if __name__ == '__main__':\n",
    "    with open('input.txt', 'r') as f:\n",
    "        n = int(f.readline())\n",
    "        nums = [int(i) for i in f.readline().split()]\n",
    "    \n",
    "    result = len(nums) - len(set(nums))\n",
    "    result = str(result)\n",
    "    \n",
    "    with open('output.txt', 'w') as f:\n",
    "        f.write(result)\n",
    "        f.write('\\n')"
   ]
  },
  {
   "cell_type": "code",
   "execution_count": 122,
   "metadata": {},
   "outputs": [],
   "source": [
    "if __name__ == '__main__':\n",
    "    with open('input.txt', 'r') as f:\n",
    "        n = int(f.readline())\n",
    "        d = [int(i) for i in f.readline().split()]\n",
    "        assert len(d) == n\n",
    "    \n",
    "    l, r = [d[0] + 1] * len(d), [d[-1] + 1] * len(d)\n",
    "    \n",
    "    for i in range(1, len(d)):\n",
    "        l[i] = l[i - 1] + d[i] + 1\n",
    "        \n",
    "    for i in range(len(d) - 2, 0, -1):\n",
    "        r[i] = r[i + 1] + d[i] + 1\n",
    "    \n",
    "    s = r[1]\n",
    "    for i in range(1, len(d) - 1):\n",
    "        s += l[i] * r[i + 1]\n",
    "        s += d[i] * (l[i - 1] + r[i + 1] + d[i])\n",
    "    \n",
    "    result = str(s)\n",
    "    \n",
    "    with open('output.txt', 'w') as f:\n",
    "        f.write(result)\n",
    "        f.write('\\n')"
   ]
  },
  {
   "cell_type": "code",
   "execution_count": 213,
   "metadata": {},
   "outputs": [],
   "source": [
    "import math\n",
    "\n",
    "\n",
    "def mod_pow(a, x, p):\n",
    "    res = 1\n",
    "    while x > 0:\n",
    "        if (x % 2 != 0):\n",
    "            res = (res * a) % p\n",
    "        a = (a ** 2) % p\n",
    "        x = x // 2\n",
    "    return res\n",
    "\n",
    "\n",
    "def mod_inv(a, p):\n",
    "    return mod_pow(a, p - 2, p)\n",
    "\n",
    "\n",
    "def binomial(n, k, p):\n",
    "    num = 1\n",
    "    for i in range(k):\n",
    "        num = (num * (n - i)) % p\n",
    "    \n",
    "    dem = 1\n",
    "    for i in range(1, k + 1):\n",
    "        dem = (dem * i) % p\n",
    "    \n",
    "    return (num * mod_inv(dem, p)) % p\n",
    "\n",
    "if __name__ == '__main__':\n",
    "    with open('input.txt', 'r') as f:\n",
    "        k, n = [int(i) for i in f.readline().split()]\n",
    "        l, m = [int(i) for i in f.readline().split()]\n",
    "    \n",
    "    p = 1000000007\n",
    "    result = str(math.gcd(binomial(n, k, p), binomial(m, l, p)) % p)\n",
    "    with open('output.txt', 'w') as f:\n",
    "        f.write(result)\n",
    "        f.write('\\n')"
   ]
  },
  {
   "cell_type": "code",
   "execution_count": 214,
   "metadata": {},
   "outputs": [
    {
     "name": "stdout",
     "output_type": "stream",
     "text": [
      "2\r\n"
     ]
    }
   ],
   "source": [
    "!cat output.txt"
   ]
  }
 ],
 "metadata": {
  "kernelspec": {
   "display_name": "Python 3",
   "language": "python",
   "name": "python3"
  },
  "language_info": {
   "codemirror_mode": {
    "name": "ipython",
    "version": 3
   },
   "file_extension": ".py",
   "mimetype": "text/x-python",
   "name": "python",
   "nbconvert_exporter": "python",
   "pygments_lexer": "ipython3",
   "version": "3.6.5"
  }
 },
 "nbformat": 4,
 "nbformat_minor": 2
}
